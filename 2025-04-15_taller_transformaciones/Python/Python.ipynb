{
 "cells": [
  {
   "cell_type": "markdown",
   "id": "b0925567",
   "metadata": {},
   "source": [
    "Instalacion de librerias"
   ]
  },
  {
   "cell_type": "code",
   "execution_count": 1,
   "id": "a6131654",
   "metadata": {},
   "outputs": [
    {
     "name": "stdout",
     "output_type": "stream",
     "text": [
      "Defaulting to user installation because normal site-packages is not writeable\n",
      "Requirement already satisfied: numpy in c:\\users\\juanc\\appdata\\local\\packages\\pythonsoftwarefoundation.python.3.13_qbz5n2kfra8p0\\localcache\\local-packages\\python313\\site-packages (2.2.4)\n",
      "Requirement already satisfied: matplotlib in c:\\users\\juanc\\appdata\\local\\packages\\pythonsoftwarefoundation.python.3.13_qbz5n2kfra8p0\\localcache\\local-packages\\python313\\site-packages (3.10.1)\n",
      "Requirement already satisfied: imageio in c:\\users\\juanc\\appdata\\local\\packages\\pythonsoftwarefoundation.python.3.13_qbz5n2kfra8p0\\localcache\\local-packages\\python313\\site-packages (2.37.0)\n",
      "Requirement already satisfied: contourpy>=1.0.1 in c:\\users\\juanc\\appdata\\local\\packages\\pythonsoftwarefoundation.python.3.13_qbz5n2kfra8p0\\localcache\\local-packages\\python313\\site-packages (from matplotlib) (1.3.1)\n",
      "Requirement already satisfied: cycler>=0.10 in c:\\users\\juanc\\appdata\\local\\packages\\pythonsoftwarefoundation.python.3.13_qbz5n2kfra8p0\\localcache\\local-packages\\python313\\site-packages (from matplotlib) (0.12.1)\n",
      "Requirement already satisfied: fonttools>=4.22.0 in c:\\users\\juanc\\appdata\\local\\packages\\pythonsoftwarefoundation.python.3.13_qbz5n2kfra8p0\\localcache\\local-packages\\python313\\site-packages (from matplotlib) (4.57.0)\n",
      "Requirement already satisfied: kiwisolver>=1.3.1 in c:\\users\\juanc\\appdata\\local\\packages\\pythonsoftwarefoundation.python.3.13_qbz5n2kfra8p0\\localcache\\local-packages\\python313\\site-packages (from matplotlib) (1.4.8)\n",
      "Requirement already satisfied: packaging>=20.0 in c:\\users\\juanc\\appdata\\local\\packages\\pythonsoftwarefoundation.python.3.13_qbz5n2kfra8p0\\localcache\\local-packages\\python313\\site-packages (from matplotlib) (24.2)\n",
      "Requirement already satisfied: pillow>=8 in c:\\users\\juanc\\appdata\\local\\packages\\pythonsoftwarefoundation.python.3.13_qbz5n2kfra8p0\\localcache\\local-packages\\python313\\site-packages (from matplotlib) (11.2.1)\n",
      "Requirement already satisfied: pyparsing>=2.3.1 in c:\\users\\juanc\\appdata\\local\\packages\\pythonsoftwarefoundation.python.3.13_qbz5n2kfra8p0\\localcache\\local-packages\\python313\\site-packages (from matplotlib) (3.2.3)\n",
      "Requirement already satisfied: python-dateutil>=2.7 in c:\\users\\juanc\\appdata\\local\\packages\\pythonsoftwarefoundation.python.3.13_qbz5n2kfra8p0\\localcache\\local-packages\\python313\\site-packages (from matplotlib) (2.9.0.post0)\n",
      "Requirement already satisfied: six>=1.5 in c:\\users\\juanc\\appdata\\local\\packages\\pythonsoftwarefoundation.python.3.13_qbz5n2kfra8p0\\localcache\\local-packages\\python313\\site-packages (from python-dateutil>=2.7->matplotlib) (1.17.0)\n",
      "Note: you may need to restart the kernel to use updated packages.\n"
     ]
    }
   ],
   "source": [
    "pip install numpy matplotlib imageio"
   ]
  },
  {
   "cell_type": "markdown",
   "id": "ed6eb347",
   "metadata": {},
   "source": [
    "Importacion de librerias"
   ]
  },
  {
   "cell_type": "code",
   "execution_count": 6,
   "id": "e7c4d89b",
   "metadata": {},
   "outputs": [],
   "source": [
    "import os\n",
    "import numpy as np\n",
    "import matplotlib.pyplot as plt\n",
    "import imageio"
   ]
  },
  {
   "cell_type": "markdown",
   "id": "01b5e1ea",
   "metadata": {},
   "source": [
    "Codigo"
   ]
  },
  {
   "cell_type": "code",
   "execution_count": 10,
   "id": "060df713",
   "metadata": {},
   "outputs": [
    {
     "name": "stderr",
     "output_type": "stream",
     "text": [
      "C:\\Users\\juanc\\AppData\\Local\\Temp\\ipykernel_12756\\2754808513.py:95: DeprecationWarning: Starting with ImageIO v3 the behavior of this function will switch to that of iio.v3.imread. To keep the current behavior (and make this warning disappear) use `import imageio.v2 as imageio` or call `imageio.v2.imread` directly.\n",
      "  frames.append(imageio.imread(frame_path))\n"
     ]
    },
    {
     "name": "stdout",
     "output_type": "stream",
     "text": [
      "GIF guardado en: gif\\transformacion.gif\n"
     ]
    }
   ],
   "source": [
    "# Crear carpetas para almacenar los frames y el GIF (si no existen)\n",
    "frames_dir = 'frames'\n",
    "gif_dir = 'gif'\n",
    "os.makedirs(frames_dir, exist_ok=True)\n",
    "os.makedirs(gif_dir, exist_ok=True)\n",
    "\n",
    "# Definir la figura base (un cuadrado) en coordenadas homogéneas (2 filas: X y Y)\n",
    "figura = np.array([\n",
    "    [0, 0],\n",
    "    [1, 0],\n",
    "    [1, 1],\n",
    "    [0, 1],\n",
    "    [0, 0]  # Cerrar el cuadrado volviendo al punto inicial\n",
    "]).T  # Transponer para que quede 2xN (más práctico para transformaciones)\n",
    "\n",
    "# Función para crear la matriz de traslación\n",
    "def matriz_traslacion(dx, dy):\n",
    "    return np.array([\n",
    "        [1, 0, dx],\n",
    "        [0, 1, dy],\n",
    "        [0, 0,  1]\n",
    "    ])\n",
    "\n",
    "# Función para crear la matriz de rotación\n",
    "def matriz_rotacion(theta):\n",
    "    return np.array([\n",
    "        [np.cos(theta), -np.sin(theta), 0],\n",
    "        [np.sin(theta),  np.cos(theta), 0],\n",
    "        [0,              0,             1]\n",
    "    ])\n",
    "\n",
    "# Función para crear la matriz de escalado\n",
    "def matriz_escala(sx, sy):\n",
    "    return np.array([\n",
    "        [sx, 0,  0],\n",
    "        [0,  sy, 0],\n",
    "        [0,  0,  1]\n",
    "    ])\n",
    "\n",
    "# Función para convertir la figura a coordenadas homogéneas (agregar fila de unos)\n",
    "def hacer_homogenea(fig):\n",
    "    ones = np.ones((1, fig.shape[1]))\n",
    "    return np.vstack([fig, ones])\n",
    "\n",
    "# Inicializar lista para guardar los frames\n",
    "frames = []\n",
    "num_frames = 60  # Definir el número de frames del GIF\n",
    "\n",
    "# Generar cada frame\n",
    "for t in range(num_frames):\n",
    "    # Calcular parámetros de transformación que varían con el tiempo\n",
    "    angulo = 2 * np.pi * t / num_frames             # Rotación continua (0 a 360 grados)\n",
    "    escala = 1 + 0.5 * np.sin(2 * np.pi * t / num_frames)  # Escalado oscilante\n",
    "    dx = 2 * np.cos(2 * np.pi * t / num_frames)     # Movimiento horizontal en círculo\n",
    "    dy = 2 * np.sin(2 * np.pi * t / num_frames)     # Movimiento vertical en círculo\n",
    "\n",
    "    # Crear las matrices de transformación correspondientes\n",
    "    T = matriz_traslacion(dx, dy)\n",
    "    R = matriz_rotacion(angulo)\n",
    "    S = matriz_escala(escala, escala)\n",
    "\n",
    "    # Combinar las transformaciones (primero escalar, luego rotar, luego trasladar)\n",
    "    transformacion_total = T @ R @ S\n",
    "\n",
    "    # Aplicar la transformación a la figura\n",
    "    figura_homogenea = hacer_homogenea(figura)\n",
    "    figura_transformada = transformacion_total @ figura_homogenea\n",
    "\n",
    "    # Crear una nueva figura para graficar\n",
    "    fig, ax = plt.subplots(figsize=(6, 6))\n",
    "    ax.plot(figura_transformada[0, :], figura_transformada[1, :], 'bo-')  # Dibujar el cuadrado transformado\n",
    "    ax.set_xlim(-5, 5)\n",
    "    ax.set_ylim(-5, 5)\n",
    "    ax.set_aspect('equal')  # Escalas iguales en ambos ejes\n",
    "    ax.set_title(f'Frame {t}')\n",
    "\n",
    "    # Mostrar la matriz de transformación dentro del gráfico\n",
    "    matriz_texto = np.array2string(transformacion_total, precision=2, suppress_small=True)\n",
    "    ax.text(\n",
    "        0.05, 0.95,\n",
    "        f'Matriz:\\n{matriz_texto}',\n",
    "        fontsize=8,\n",
    "        transform=ax.transAxes,\n",
    "        verticalalignment='top',\n",
    "        family='monospace',\n",
    "        bbox=dict(boxstyle=\"round,pad=0.3\", facecolor=\"white\", edgecolor=\"gray\")\n",
    "    )\n",
    "\n",
    "    # Guardar el frame generado en la carpeta correspondiente\n",
    "    frame_path = os.path.join(frames_dir, f'frame_{t}.png')\n",
    "    plt.savefig(frame_path)\n",
    "    plt.close()  # Cerrar la figura para liberar memoria\n",
    "\n",
    "    # Leer el frame guardado y agregarlo a la lista de frames\n",
    "    frames.append(imageio.imread(frame_path))\n",
    "\n",
    "# Crear el GIF animado a partir de los frames guardados\n",
    "gif_path = os.path.join(gif_dir, 'transformacion.gif')\n",
    "imageio.mimsave(gif_path, frames, duration=0.05)  # 0.05s entre frames (~20 fps)\n",
    "\n",
    "# Imprimir la ruta donde se guardó el GIF\n",
    "print(f\"GIF guardado en: {gif_path}\")"
   ]
  }
 ],
 "metadata": {
  "kernelspec": {
   "display_name": "Python 3",
   "language": "python",
   "name": "python3"
  },
  "language_info": {
   "codemirror_mode": {
    "name": "ipython",
    "version": 3
   },
   "file_extension": ".py",
   "mimetype": "text/x-python",
   "name": "python",
   "nbconvert_exporter": "python",
   "pygments_lexer": "ipython3",
   "version": "3.13.3"
  }
 },
 "nbformat": 4,
 "nbformat_minor": 5
}
