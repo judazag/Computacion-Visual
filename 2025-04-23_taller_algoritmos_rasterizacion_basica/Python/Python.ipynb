{
 "cells": [
  {
   "cell_type": "code",
   "execution_count": 3,
   "id": "76c270b7",
   "metadata": {},
   "outputs": [
    {
     "name": "stdout",
     "output_type": "stream",
     "text": [
      "Defaulting to user installation because normal site-packages is not writeable\n",
      "Requirement already satisfied: Pillow in c:\\users\\juanc\\appdata\\local\\packages\\pythonsoftwarefoundation.python.3.13_qbz5n2kfra8p0\\localcache\\local-packages\\python313\\site-packages (11.2.1)\n",
      "Requirement already satisfied: numpy in c:\\users\\juanc\\appdata\\local\\packages\\pythonsoftwarefoundation.python.3.13_qbz5n2kfra8p0\\localcache\\local-packages\\python313\\site-packages (2.2.4)\n",
      "Requirement already satisfied: matplotlib in c:\\users\\juanc\\appdata\\local\\packages\\pythonsoftwarefoundation.python.3.13_qbz5n2kfra8p0\\localcache\\local-packages\\python313\\site-packages (3.10.1)\n",
      "Requirement already satisfied: contourpy>=1.0.1 in c:\\users\\juanc\\appdata\\local\\packages\\pythonsoftwarefoundation.python.3.13_qbz5n2kfra8p0\\localcache\\local-packages\\python313\\site-packages (from matplotlib) (1.3.1)\n",
      "Requirement already satisfied: cycler>=0.10 in c:\\users\\juanc\\appdata\\local\\packages\\pythonsoftwarefoundation.python.3.13_qbz5n2kfra8p0\\localcache\\local-packages\\python313\\site-packages (from matplotlib) (0.12.1)\n",
      "Requirement already satisfied: fonttools>=4.22.0 in c:\\users\\juanc\\appdata\\local\\packages\\pythonsoftwarefoundation.python.3.13_qbz5n2kfra8p0\\localcache\\local-packages\\python313\\site-packages (from matplotlib) (4.57.0)\n",
      "Requirement already satisfied: kiwisolver>=1.3.1 in c:\\users\\juanc\\appdata\\local\\packages\\pythonsoftwarefoundation.python.3.13_qbz5n2kfra8p0\\localcache\\local-packages\\python313\\site-packages (from matplotlib) (1.4.8)\n",
      "Requirement already satisfied: packaging>=20.0 in c:\\users\\juanc\\appdata\\local\\packages\\pythonsoftwarefoundation.python.3.13_qbz5n2kfra8p0\\localcache\\local-packages\\python313\\site-packages (from matplotlib) (24.2)\n",
      "Requirement already satisfied: pyparsing>=2.3.1 in c:\\users\\juanc\\appdata\\local\\packages\\pythonsoftwarefoundation.python.3.13_qbz5n2kfra8p0\\localcache\\local-packages\\python313\\site-packages (from matplotlib) (3.2.3)\n",
      "Requirement already satisfied: python-dateutil>=2.7 in c:\\users\\juanc\\appdata\\local\\packages\\pythonsoftwarefoundation.python.3.13_qbz5n2kfra8p0\\localcache\\local-packages\\python313\\site-packages (from matplotlib) (2.9.0.post0)\n",
      "Requirement already satisfied: six>=1.5 in c:\\users\\juanc\\appdata\\local\\packages\\pythonsoftwarefoundation.python.3.13_qbz5n2kfra8p0\\localcache\\local-packages\\python313\\site-packages (from python-dateutil>=2.7->matplotlib) (1.17.0)\n",
      "Note: you may need to restart the kernel to use updated packages.\n"
     ]
    }
   ],
   "source": [
    "pip install Pillow numpy matplotlib"
   ]
  },
  {
   "cell_type": "code",
   "execution_count": 2,
   "id": "21adb29b",
   "metadata": {},
   "outputs": [],
   "source": [
    "from PIL import Image, ImageDraw\n",
    "import matplotlib.pyplot as plt\n",
    "\n",
    "width, height = 200, 200\n",
    "image = Image.new('RGB', (width, height), 'white')\n",
    "pixels = image.load()\n"
   ]
  },
  {
   "cell_type": "code",
   "execution_count": 4,
   "id": "ad137625",
   "metadata": {},
   "outputs": [],
   "source": [
    "def bresenham(x0, y0, x1, y1):\n",
    "    dx = abs(x1 - x0)\n",
    "    dy = abs(y1 - y0)\n",
    "    sx = 1 if x0 < x1 else -1\n",
    "    sy = 1 if y0 < y1 else -1\n",
    "    err = dx - dy\n",
    "\n",
    "    while True:\n",
    "        pixels[x0, y0] = (255, 0, 0)\n",
    "        if x0 == x1 and y0 == y1:\n",
    "            break\n",
    "        e2 = 2 * err\n",
    "        if e2 > -dy:\n",
    "            err -= dy\n",
    "            x0 += sx\n",
    "        if e2 < dx:\n",
    "            err += dx\n",
    "            y0 += sy\n"
   ]
  },
  {
   "cell_type": "code",
   "execution_count": null,
   "id": "33ca04ff",
   "metadata": {},
   "outputs": [],
   "source": [
    "bresenham(20, 20, 180, 120)"
   ]
  },
  {
   "cell_type": "code",
   "execution_count": 6,
   "id": "1fbc10ba",
   "metadata": {},
   "outputs": [],
   "source": [
    "def midpoint_circle(x0, y0, radius):\n",
    "    x = radius\n",
    "    y = 0\n",
    "    p = 1 - radius\n",
    "\n",
    "    while x >= y:\n",
    "        for dx, dy in [(x, y), (y, x), (-x, y), (-y, x), (-x, -y), (-y, -x), (x, -y), (y, -x)]:\n",
    "            if 0 <= x0 + dx < width and 0 <= y0 + dy < height:\n",
    "                pixels[x0 + dx, y0 + dy] = (0, 0, 255)\n",
    "        y += 1\n",
    "        if p <= 0:\n",
    "            p = p + 2*y + 1\n",
    "        else:\n",
    "            x -= 1\n",
    "            p = p + 2*y - 2*x + 1\n"
   ]
  },
  {
   "cell_type": "code",
   "execution_count": 9,
   "id": "ff640cf7",
   "metadata": {},
   "outputs": [],
   "source": [
    "midpoint_circle(100, 100, 40)"
   ]
  },
  {
   "cell_type": "code",
   "execution_count": 7,
   "id": "f42aa2e1",
   "metadata": {},
   "outputs": [],
   "source": [
    "def fill_triangle(p1, p2, p3):\n",
    "    # ordenar por y\n",
    "    pts = sorted([p1, p2, p3], key=lambda p: p[1])\n",
    "    (x1, y1), (x2, y2), (x3, y3) = pts\n",
    "\n",
    "    def interpolate(y0, y1, x0, x1):\n",
    "        if y1 - y0 == 0: return []\n",
    "        return [int(x0 + (x1 - x0) * (y - y0) / (y1 - y0)) for y in range(y0, y1)]\n",
    "\n",
    "    x12 = interpolate(y1, y2, x1, x2)\n",
    "    x23 = interpolate(y2, y3, x2, x3)\n",
    "    x13 = interpolate(y1, y3, x1, x3)\n",
    "\n",
    "    x_left = x12 + x23\n",
    "    for y, xl, xr in zip(range(y1, y3), x13, x_left):\n",
    "        for x in range(min(xl, xr), max(xl, xr)):\n",
    "            if 0 <= x < width and 0 <= y < height:\n",
    "                pixels[x, y] = (0, 255, 0)\n"
   ]
  },
  {
   "cell_type": "code",
   "execution_count": 11,
   "id": "0497d3e3",
   "metadata": {},
   "outputs": [],
   "source": [
    "fill_triangle((30, 50), (100, 150), (160, 60))"
   ]
  },
  {
   "cell_type": "code",
   "execution_count": 12,
   "id": "f0f73d58",
   "metadata": {},
   "outputs": [
    {
     "data": {
      "image/png": "[encoded data removed]",
      "text/plain": [
       "<Figure size 640x480 with 1 Axes>"
      ]
     },
     "metadata": {},
     "output_type": "display_data"
    }
   ],
   "source": [
    "plt.imshow(image)\n",
    "plt.axis('off')\n",
    "plt.show()\n"
   ]
  }
 ],
 "metadata": {
  "kernelspec": {
   "display_name": "Python 3",
   "language": "python",
   "name": "python3"
  },
  "language_info": {
   "codemirror_mode": {
    "name": "ipython",
    "version": 3
   },
   "file_extension": ".py",
   "mimetype": "text/x-python",
   "name": "python",
   "nbconvert_exporter": "python",
   "pygments_lexer": "ipython3",
   "version": "3.13.3"
  }
 },
 "nbformat": 4,
 "nbformat_minor": 5
}
