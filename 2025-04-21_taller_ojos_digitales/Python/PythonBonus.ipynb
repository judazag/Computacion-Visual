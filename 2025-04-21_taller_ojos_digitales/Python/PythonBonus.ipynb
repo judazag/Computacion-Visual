{
 "cells": [
  {
   "cell_type": "code",
   "execution_count": 1,
   "id": "cf49da3c",
   "metadata": {},
   "outputs": [
    {
     "name": "stdout",
     "output_type": "stream",
     "text": [
      "Defaulting to user installation because normal site-packages is not writeable\n",
      "Requirement already satisfied: opencv-python in c:\\users\\juanc\\appdata\\local\\packages\\pythonsoftwarefoundation.python.3.13_qbz5n2kfra8p0\\localcache\\local-packages\\python313\\site-packages (4.11.0.86)\n",
      "Requirement already satisfied: numpy in c:\\users\\juanc\\appdata\\local\\packages\\pythonsoftwarefoundation.python.3.13_qbz5n2kfra8p0\\localcache\\local-packages\\python313\\site-packages (2.2.4)\n"
     ]
    },
    {
     "name": "stderr",
     "output_type": "stream",
     "text": [
      "\n",
      "[notice] A new release of pip is available: 25.0.1 -> 25.1.1\n",
      "[notice] To update, run: C:\\Users\\juanc\\AppData\\Local\\Microsoft\\WindowsApps\\PythonSoftwareFoundation.Python.3.13_qbz5n2kfra8p0\\python.exe -m pip install --upgrade pip\n"
     ]
    }
   ],
   "source": [
    "!pip install opencv-python numpy "
   ]
  },
  {
   "cell_type": "code",
   "execution_count": 2,
   "id": "309e96c0",
   "metadata": {},
   "outputs": [
    {
     "ename": "error",
     "evalue": "OpenCV(4.11.0) D:\\a\\opencv-python\\opencv-python\\opencv\\modules\\highgui\\src\\window_w32.cpp:2564: error: (-27:Null pointer) NULL window: 'Control de filtros' in function 'cvGetTrackbarPos'\n",
     "output_type": "error",
     "traceback": [
      "\u001b[31m---------------------------------------------------------------------------\u001b[39m",
      "\u001b[31merror\u001b[39m                                     Traceback (most recent call last)",
      "\u001b[36mCell\u001b[39m\u001b[36m \u001b[39m\u001b[32mIn[2]\u001b[39m\u001b[32m, line 23\u001b[39m\n\u001b[32m     20\u001b[39m \u001b[38;5;28;01mif\u001b[39;00m key == \u001b[32m27\u001b[39m:  \u001b[38;5;66;03m# ESC\u001b[39;00m\n\u001b[32m     21\u001b[39m     \u001b[38;5;28;01mbreak\u001b[39;00m\n\u001b[32m---> \u001b[39m\u001b[32m23\u001b[39m mode   = \u001b[43mcv2\u001b[49m\u001b[43m.\u001b[49m\u001b[43mgetTrackbarPos\u001b[49m\u001b[43m(\u001b[49m\u001b[33;43m'\u001b[39;49m\u001b[33;43mFiltro\u001b[39;49m\u001b[33;43m'\u001b[39;49m\u001b[43m,\u001b[49m\u001b[43m \u001b[49m\u001b[43mwin\u001b[49m\u001b[43m)\u001b[49m\n\u001b[32m     24\u001b[39m ksize  = cv2.getTrackbarPos(\u001b[33m'\u001b[39m\u001b[33mKernel\u001b[39m\u001b[33m'\u001b[39m, win)\n\u001b[32m     26\u001b[39m \u001b[38;5;66;03m# Asegurar kernel impar y ≥1\u001b[39;00m\n",
      "\u001b[31merror\u001b[39m: OpenCV(4.11.0) D:\\a\\opencv-python\\opencv-python\\opencv\\modules\\highgui\\src\\window_w32.cpp:2564: error: (-27:Null pointer) NULL window: 'Control de filtros' in function 'cvGetTrackbarPos'\n"
     ]
    }
   ],
   "source": [
    "import cv2\n",
    "import numpy as np\n",
    "\n",
    "def nothing(x):\n",
    "    pass\n",
    "\n",
    "# 1) Carga y gris\n",
    "img_bgr = cv2.imread('Datos/Payday2.jpg')\n",
    "img_gray = cv2.cvtColor(img_bgr, cv2.COLOR_BGR2GRAY)\n",
    "\n",
    "# 2) Ventana y trackbars\n",
    "win = 'Control de filtros'\n",
    "cv2.namedWindow(win)\n",
    "\n",
    "cv2.createTrackbar('Filtro', win, 0, 9, nothing)\n",
    "cv2.createTrackbar('Kernel', win, 1, 31, nothing)\n",
    "\n",
    "while True:\n",
    "    key = cv2.waitKey(100) & 0xFF\n",
    "    if key == 27:  # ESC\n",
    "        break\n",
    "\n",
    "    mode   = cv2.getTrackbarPos('Filtro', win)\n",
    "    ksize  = cv2.getTrackbarPos('Kernel', win)\n",
    "\n",
    "    # Asegurar kernel impar y ≥1\n",
    "    if ksize < 1: ksize = 1\n",
    "    if ksize % 2 == 0: ksize += 1\n",
    "\n",
    "    # Selección de filtro\n",
    "    if mode == 0:\n",
    "        # Blur manual\n",
    "        kernel = np.ones((ksize, ksize), np.float32) / (ksize**2)\n",
    "        out = cv2.filter2D(img_gray, -1, kernel)\n",
    "\n",
    "    elif mode == 1:\n",
    "        # Gaussian Blur\n",
    "        out = cv2.GaussianBlur(img_gray, (ksize, ksize), sigmaX=0)\n",
    "\n",
    "    elif mode == 2:\n",
    "        # Median Blur\n",
    "        out = cv2.medianBlur(img_gray, ksize)\n",
    "\n",
    "    elif mode == 3:\n",
    "        # Bilateral Filter\n",
    "        # Diametro = ksize, sigmaColor y sigmaSpace = ksize*2\n",
    "        out = cv2.bilateralFilter(img_gray, ksize, ksize*2, ksize*2)\n",
    "\n",
    "    elif mode == 4:\n",
    "        # Sharpening manual (fijo 3×3)\n",
    "        kernel = np.array([[ 0, -1,  0],\n",
    "                           [-1,  5, -1],\n",
    "                           [ 0, -1,  0]], np.float32)\n",
    "        out = cv2.filter2D(img_gray, -1, kernel)\n",
    "\n",
    "    elif mode == 5:\n",
    "        # Unsharp Mask\n",
    "        blur = cv2.GaussianBlur(img_gray, (ksize, ksize), sigmaX=0)\n",
    "        out = cv2.addWeighted(img_gray, 1.5, blur, -0.5, 0)\n",
    "\n",
    "    elif mode == 6:\n",
    "        # Sobel X\n",
    "        sobel = cv2.Sobel(img_gray, cv2.CV_64F, 1, 0, ksize=ksize)\n",
    "        out = cv2.convertScaleAbs(sobel)\n",
    "\n",
    "    elif mode == 7:\n",
    "        # Sobel Y\n",
    "        sobel = cv2.Sobel(img_gray, cv2.CV_64F, 0, 1, ksize=ksize)\n",
    "        out = cv2.convertScaleAbs(sobel)\n",
    "\n",
    "    elif mode == 8:\n",
    "        # Sobel combinado\n",
    "        sx = cv2.Sobel(img_gray, cv2.CV_64F, 1, 0, ksize=ksize)\n",
    "        sy = cv2.Sobel(img_gray, cv2.CV_64F, 0, 1, ksize=ksize)\n",
    "        out = cv2.bitwise_or(cv2.convertScaleAbs(sx),\n",
    "                             cv2.convertScaleAbs(sy))\n",
    "\n",
    "    else:\n",
    "        # Laplaciano\n",
    "        lap = cv2.Laplacian(img_gray, cv2.CV_64F, ksize=ksize)\n",
    "        out = cv2.convertScaleAbs(lap)\n",
    "\n",
    "\n",
    "\n",
    "    # Mostrar lado a lado\n",
    "    combo = np.hstack((img_gray, out))\n",
    "    cv2.imshow(win, combo)\n",
    "\n",
    "cv2.destroyAllWindows()\n",
    "\n"
   ]
  }
 ],
 "metadata": {
  "kernelspec": {
   "display_name": "Python 3",
   "language": "python",
   "name": "python3"
  },
  "language_info": {
   "codemirror_mode": {
    "name": "ipython",
    "version": 3
   },
   "file_extension": ".py",
   "mimetype": "text/x-python",
   "name": "python",
   "nbconvert_exporter": "python",
   "pygments_lexer": "ipython3",
   "version": "3.13.3"
  }
 },
 "nbformat": 4,
 "nbformat_minor": 5
}
