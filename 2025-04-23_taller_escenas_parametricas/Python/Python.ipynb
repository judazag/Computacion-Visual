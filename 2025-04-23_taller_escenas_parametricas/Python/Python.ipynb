{
 "cells": [
  {
   "cell_type": "code",
   "execution_count": null,
   "id": "635e3f4c",
   "metadata": {},
   "outputs": [
    {
     "name": "stdout",
     "output_type": "stream",
     "text": [
      "Requirement already satisfied: trimesh in c:\\users\\juanc\\appdata\\local\\packages\\pythonsoftwarefoundation.python.3.11_qbz5n2kfra8p0\\localcache\\local-packages\\python311\\site-packages (4.6.8)\n",
      "Requirement already satisfied: numpy in c:\\users\\juanc\\appdata\\local\\packages\\pythonsoftwarefoundation.python.3.11_qbz5n2kfra8p0\\localcache\\local-packages\\python311\\site-packages (2.2.5)\n"
     ]
    },
    {
     "name": "stderr",
     "output_type": "stream",
     "text": [
      "\n",
      "[notice] A new release of pip is available: 24.0 -> 25.1.1\n",
      "[notice] To update, run: C:\\Users\\juanc\\AppData\\Local\\Microsoft\\WindowsApps\\PythonSoftwareFoundation.Python.3.11_qbz5n2kfra8p0\\python.exe -m pip install --upgrade pip\n"
     ]
    }
   ],
   "source": [
    "!pip install trimesh numpy"
   ]
  },
  {
   "cell_type": "code",
   "execution_count": 21,
   "id": "1b1902a1",
   "metadata": {},
   "outputs": [],
   "source": [
    "import trimesh\n",
    "import numpy as np\n",
    "import random"
   ]
  },
  {
   "cell_type": "markdown",
   "id": "5409762b",
   "metadata": {},
   "source": [
    "# 1) Generar lista de coordenadas"
   ]
  },
  {
   "cell_type": "code",
   "execution_count": 22,
   "id": "d6cd5c68",
   "metadata": {},
   "outputs": [],
   "source": [
    "# Crear 10 puntos aleatorios en el espacio 3D dentro del rango [-10, 10]\n",
    "num_points = 10\n",
    "coords = [(random.uniform(-10, 10),\n",
    "           random.uniform(-10, 10),\n",
    "           random.uniform(-10, 10)) for _ in range(num_points)]"
   ]
  },
  {
   "cell_type": "markdown",
   "id": "4e79c4d6",
   "metadata": {},
   "source": [
    "# 2) Crear primitivas y posicionarlas"
   ]
  },
  {
   "cell_type": "code",
   "execution_count": 23,
   "id": "a16e2d74",
   "metadata": {},
   "outputs": [],
   "source": [
    "meshes = []\n",
    "for i, (x, y, z) in enumerate(coords):\n",
    "    if i % 3 == 0:\n",
    "        mesh = trimesh.creation.box(extents=(1,1,1))\n",
    "    elif i % 3 == 1:\n",
    "        mesh = trimesh.creation.icosphere(subdivisions=2, radius=0.8)\n",
    "    else:\n",
    "        mesh = trimesh.creation.cylinder(radius=0.5, height=2.0)\n",
    "\n",
    "    # aplicar traslación al centro de la primitiva\n",
    "    mesh.apply_translation([x, y, z])\n",
    "\n",
    "    # opcional: escalar o rotar según condiciones\n",
    "    if x > 0:\n",
    "        mesh.apply_scale(1.2)\n",
    "    elif y < 0:\n",
    "        mesh.apply_scale(0.7)\n",
    "\n",
    "    meshes.append(mesh)\n"
   ]
  },
  {
   "cell_type": "markdown",
   "id": "8e3c204b",
   "metadata": {},
   "source": [
    "# 3) Crear escena y añadir mallas"
   ]
  },
  {
   "cell_type": "code",
   "execution_count": 30,
   "id": "ac05895b",
   "metadata": {},
   "outputs": [],
   "source": [
    "scene = trimesh.Scene()\n",
    "for mesh in meshes:\n",
    "    scene.add_geometry(mesh)"
   ]
  },
  {
   "cell_type": "markdown",
   "id": "595dbc73",
   "metadata": {},
   "source": [
    "# 4) Exportar la escena completa"
   ]
  },
  {
   "cell_type": "code",
   "execution_count": 32,
   "id": "a84d50ce",
   "metadata": {},
   "outputs": [
    {
     "name": "stdout",
     "output_type": "stream",
     "text": [
      "✅ Escena exportada como 'escena_completa.obj'\n"
     ]
    }
   ],
   "source": [
    "scene.export(file_obj='Resultado/escena_completa.obj')   # también .stl, .glb, .gltf\n",
    "\n",
    "print(\"✅ Escena exportada como 'escena_completa.obj'\")"
   ]
  }
 ],
 "metadata": {
  "kernelspec": {
   "display_name": "Python 3",
   "language": "python",
   "name": "python3"
  },
  "language_info": {
   "codemirror_mode": {
    "name": "ipython",
    "version": 3
   },
   "file_extension": ".py",
   "mimetype": "text/x-python",
   "name": "python",
   "nbconvert_exporter": "python",
   "pygments_lexer": "ipython3",
   "version": "3.11.9"
  }
 },
 "nbformat": 4,
 "nbformat_minor": 5
}
